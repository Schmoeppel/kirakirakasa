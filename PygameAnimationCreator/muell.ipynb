{
 "cells": [
  {
   "cell_type": "code",
   "execution_count": 2,
   "metadata": {},
   "outputs": [
    {
     "name": "stdout",
     "output_type": "stream",
     "text": [
      "[1, 1, 1]\n"
     ]
    }
   ],
   "source": [
    "list1 = [2, 2, 2]\n",
    "\n",
    "list2 = [1, 1, 1]\n",
    "\n",
    "difference = []\n",
    "\n",
    "zip_object = zip(list1, list2)\n",
    "\n",
    "for list1_i, list2_i in zip_object:\n",
    "\n",
    "    difference.append(list1_i-list2_i)\n",
    "\n",
    "print(difference)"
   ]
  },
  {
   "cell_type": "code",
   "execution_count": 30,
   "metadata": {},
   "outputs": [
    {
     "data": {
      "text/plain": [
       "[[16, 51, 84, 119, 17, 50, 85, 118],\n",
       " [15, 52, 83, 120, 18, 49, 86, 117],\n",
       " [14, 53, 82, 121, 19, 48, 87, 116],\n",
       " [13, 54, 81, 122, 20, 47, 88, 115],\n",
       " [12, 55, 80, 123, 21, 46, 89, 114],\n",
       " [11, 56, 79, 124, 22, 45, 90, 113],\n",
       " [10, 57, 78, 125, 23, 44, 91, 112],\n",
       " [9, 58, 77, 126, 24, 43, 92, 111],\n",
       " [8, 59, 76, 127, 25, 42, 93, 110],\n",
       " [7, 60, 75, 128, 26, 41, 94, 109],\n",
       " [6, 61, 74, 129, 27, 40, 95, 108],\n",
       " [5, 62, 73, 130, 28, 39, 96, 107],\n",
       " [4, 63, 72, 131, 29, 38, 97, 106],\n",
       " [3, 64, 71, 132, 30, 37, 98, 105],\n",
       " [2, 65, 70, 133, 31, 36, 99, 104],\n",
       " [1, 66, 69, 134, 32, 35, 100, 103],\n",
       " [0, 67, 68, 135, 33, 34, 101, 102]]"
      ]
     },
     "execution_count": 30,
     "metadata": {},
     "output_type": "execute_result"
    }
   ],
   "source": [
    "matrix_first_row = [16, 51, 84, 119, 17, 50, 85, 118]\n",
    "change = [-1, 1, -1, 1, 1, -1, 1, -1]\n",
    "\n",
    "matrix_next_row = matrix_first_row\n",
    "matrix = []\n",
    "matrix.append(matrix_first_row)\n",
    "for i in range(16):\n",
    "    difference = []\n",
    "    zip_object = zip(matrix_next_row, change)\n",
    "    for list1_i, list2_i in zip_object:\n",
    "        difference.append(list1_i+list2_i)\n",
    "    matrix_next_row = difference\n",
    "    matrix.append(matrix_next_row)\n",
    "matrix"
   ]
  },
  {
   "cell_type": "code",
   "execution_count": 44,
   "metadata": {},
   "outputs": [
    {
     "data": {
      "text/plain": [
       "15"
      ]
     },
     "execution_count": 44,
     "metadata": {},
     "output_type": "execute_result"
    }
   ],
   "source": [
    "matrix[1][0]"
   ]
  },
  {
   "cell_type": "code",
   "execution_count": null,
   "metadata": {},
   "outputs": [],
   "source": []
  },
  {
   "cell_type": "code",
   "execution_count": 41,
   "metadata": {},
   "outputs": [
    {
     "name": "stdout",
     "output_type": "stream",
     "text": [
      "[[16, 51, 84, 119, 17, 50, 85, 118], [15, 52, 83, 120, 18, 49, 86, 117], [14, 53, 82, 121, 19, 48, 87, 116]]\n"
     ]
    }
   ],
   "source": [
    "def get_led_idx(r_slice, c_slice):\n",
    "    r_slice_interpreted = slice(r_slice[0], r_slice[1])\n",
    "    print(matrix[r_slice_interpreted])\n",
    "    '''\n",
    "    for r, row in enumerate(matrix):\n",
    "        #print(matrix[r])\n",
    "        for c, column in enumerate(row):\n",
    "            print(column)\n",
    "            '''\n",
    "\n",
    "get_led_idx([0,3],1)"
   ]
  },
  {
   "cell_type": "code",
   "execution_count": 46,
   "metadata": {},
   "outputs": [
    {
     "name": "stdout",
     "output_type": "stream",
     "text": [
      "[15, 52, 83, 120, 18, 49, 86, 117]\n"
     ]
    }
   ],
   "source": [
    "def color_ring(ring_num, color):\n",
    "    ring_leds = matrix[ring_num]\n",
    "    for led in ring_leds:\n",
    "        kasa[led] = color\n",
    "    \n",
    "\n",
    "color_ring(1)"
   ]
  },
  {
   "cell_type": "code",
   "execution_count": 49,
   "metadata": {},
   "outputs": [
    {
     "name": "stdout",
     "output_type": "stream",
     "text": [
      "[51, 52, 53, 54, 55, 56, 57, 58, 59, 60, 61, 62, 63, 64, 65, 66, 67]\n"
     ]
    }
   ],
   "source": [
    "def color_column(column_num, color):\n",
    "    column_leds = []\n",
    "    for i in range(17):\n",
    "        column_leds.append(matrix[i][column_num])\n",
    "    for led in column_leds:\n",
    "        kasa[led] = color\n",
    "\n",
    "\n",
    "color_column(1, 2)"
   ]
  },
  {
   "cell_type": "code",
   "execution_count": null,
   "metadata": {},
   "outputs": [],
   "source": [
    "def color_single_led(ring, column, color):\n",
    "    led = matrix[ring][column]\n",
    "    kasa[led] = color"
   ]
  },
  {
   "cell_type": "code",
   "execution_count": 51,
   "metadata": {},
   "outputs": [
    {
     "data": {
      "text/plain": [
       "[16,\n",
       " 51,\n",
       " 84,\n",
       " 119,\n",
       " 17,\n",
       " 50,\n",
       " 85,\n",
       " 118,\n",
       " 15,\n",
       " 52,\n",
       " 83,\n",
       " 120,\n",
       " 18,\n",
       " 49,\n",
       " 86,\n",
       " 117,\n",
       " 14,\n",
       " 53,\n",
       " 82,\n",
       " 121,\n",
       " 19,\n",
       " 48,\n",
       " 87,\n",
       " 116,\n",
       " 13,\n",
       " 54,\n",
       " 81,\n",
       " 122,\n",
       " 20,\n",
       " 47,\n",
       " 88,\n",
       " 115,\n",
       " 12,\n",
       " 55,\n",
       " 80,\n",
       " 123,\n",
       " 21,\n",
       " 46,\n",
       " 89,\n",
       " 114,\n",
       " 11,\n",
       " 56,\n",
       " 79,\n",
       " 124,\n",
       " 22,\n",
       " 45,\n",
       " 90,\n",
       " 113,\n",
       " 10,\n",
       " 57,\n",
       " 78,\n",
       " 125,\n",
       " 23,\n",
       " 44,\n",
       " 91,\n",
       " 112,\n",
       " 9,\n",
       " 58,\n",
       " 77,\n",
       " 126,\n",
       " 24,\n",
       " 43,\n",
       " 92,\n",
       " 111,\n",
       " 8,\n",
       " 59,\n",
       " 76,\n",
       " 127,\n",
       " 25,\n",
       " 42,\n",
       " 93,\n",
       " 110,\n",
       " 7,\n",
       " 60,\n",
       " 75,\n",
       " 128,\n",
       " 26,\n",
       " 41,\n",
       " 94,\n",
       " 109,\n",
       " 6,\n",
       " 61,\n",
       " 74,\n",
       " 129,\n",
       " 27,\n",
       " 40,\n",
       " 95,\n",
       " 108,\n",
       " 5,\n",
       " 62,\n",
       " 73,\n",
       " 130,\n",
       " 28,\n",
       " 39,\n",
       " 96,\n",
       " 107,\n",
       " 4,\n",
       " 63,\n",
       " 72,\n",
       " 131,\n",
       " 29,\n",
       " 38,\n",
       " 97,\n",
       " 106,\n",
       " 3,\n",
       " 64,\n",
       " 71,\n",
       " 132,\n",
       " 30,\n",
       " 37,\n",
       " 98,\n",
       " 105,\n",
       " 2,\n",
       " 65,\n",
       " 70,\n",
       " 133,\n",
       " 31,\n",
       " 36,\n",
       " 99,\n",
       " 104,\n",
       " 1,\n",
       " 66,\n",
       " 69,\n",
       " 134,\n",
       " 32,\n",
       " 35,\n",
       " 100,\n",
       " 103,\n",
       " 0,\n",
       " 67,\n",
       " 68,\n",
       " 135,\n",
       " 33,\n",
       " 34,\n",
       " 101,\n",
       " 102]"
      ]
     },
     "execution_count": 51,
     "metadata": {},
     "output_type": "execute_result"
    }
   ],
   "source": [
    "[j for sub in matrix for j in sub]"
   ]
  },
  {
   "cell_type": "code",
   "execution_count": null,
   "metadata": {},
   "outputs": [],
   "source": [
    "import numpy as np\n",
    "np.sin(45)"
   ]
  },
  {
   "cell_type": "code",
   "execution_count": null,
   "metadata": {},
   "outputs": [],
   "source": [
    "a = [[[0,0,0]],\n",
    "     [[0,0,0]]]\n",
    "\n",
    "\n",
    "a"
   ]
  },
  {
   "cell_type": "code",
   "execution_count": null,
   "metadata": {},
   "outputs": [],
   "source": [
    "1 = 186752\n",
    "2 = 186752\n",
    "10 = 186704\n"
   ]
  }
 ],
 "metadata": {
  "kernelspec": {
   "display_name": "Python 3.7.13 ('base')",
   "language": "python",
   "name": "python3"
  },
  "language_info": {
   "codemirror_mode": {
    "name": "ipython",
    "version": 3
   },
   "file_extension": ".py",
   "mimetype": "text/x-python",
   "name": "python",
   "nbconvert_exporter": "python",
   "pygments_lexer": "ipython3",
   "version": "3.7.13"
  },
  "orig_nbformat": 4,
  "vscode": {
   "interpreter": {
    "hash": "0050d323bf87f1b64174929c19b8344abb6b1f18778ba4ba323f45de57e2a5e9"
   }
  }
 },
 "nbformat": 4,
 "nbformat_minor": 2
}
