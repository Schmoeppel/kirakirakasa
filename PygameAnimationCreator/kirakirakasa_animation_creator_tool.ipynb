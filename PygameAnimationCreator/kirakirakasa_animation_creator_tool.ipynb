{
 "cells": [
  {
   "cell_type": "code",
   "execution_count": null,
   "metadata": {},
   "outputs": [
    {
     "ename": "",
     "evalue": "",
     "output_type": "error",
     "traceback": [
      "\u001b[1;31mDer Kernel konnte nicht gestartet werden. \n",
      "OSError: [WinError 123] Die Syntax für den Dateinamen, Verzeichnisnamen oder die Datenträgerbezeichnung ist falsch: '\"c:'. \n",
      "Weitere Informationen finden Sie im Jupyter-<a href='command:jupyter.viewOutput'>Protokoll</a>."
     ]
    }
   ],
   "source": [
    "import pygame\n",
    "\n",
    "pygame.init()\n",
    "\n",
    "\n",
    "\n",
    "\n",
    "# time_adjustment = pygame.time.get_ticks() - start_second*1000\n",
    "\n",
    "#from sqlalchemy import true\n",
    "\n",
    "num_of_leds = 135\n",
    "\n",
    "screenwidth = 1200\n",
    "screenheight = 680\n",
    "\n",
    "win = pygame.display.set_mode((screenwidth, screenheight))"
   ]
  },
  {
   "cell_type": "code",
   "execution_count": null,
   "metadata": {},
   "outputs": [
    {
     "ename": "",
     "evalue": "",
     "output_type": "error",
     "traceback": [
      "\u001b[1;31mDer Kernel konnte nicht gestartet werden. \n",
      "OSError: [WinError 123] Die Syntax für den Dateinamen, Verzeichnisnamen oder die Datenträgerbezeichnung ist falsch: '\"c:'. \n",
      "Weitere Informationen finden Sie im Jupyter-<a href='command:jupyter.viewOutput'>Protokoll</a>."
     ]
    }
   ],
   "source": [
    "a = 2"
   ]
  },
  {
   "cell_type": "code",
   "execution_count": 2,
   "metadata": {},
   "outputs": [],
   "source": [
    "class LedCreator:\n",
    "    def __init__(self, position, idx, win):\n",
    "        self.position = position\n",
    "        self.idx = idx\n",
    "        self.win = win\n",
    "        self.color = [100, 100, 100]\n",
    "        self.radius = 10\n",
    "\n",
    "\n",
    "    def add_animation(self, color, duration, win):\n",
    "        pass\n",
    "\n",
    "    def wait_for_all_animations():\n",
    "        pass\n",
    "\n",
    "    def draw(self):\n",
    "        pygame.draw.circle(self.win, self.color, self.position, self.radius)\n"
   ]
  },
  {
   "cell_type": "code",
   "execution_count": 3,
   "metadata": {},
   "outputs": [],
   "source": [
    "def draw_background():\n",
    "    color = [10,10,10]\n",
    "    position = [int(screenwidth/2), int(screenheight/2)]\n",
    "    radius = 300\n",
    "    pygame.draw.circle(win, color, position, radius)"
   ]
  },
  {
   "cell_type": "code",
   "execution_count": null,
   "metadata": {},
   "outputs": [
    {
     "ename": "",
     "evalue": "",
     "output_type": "error",
     "traceback": [
      "\u001b[1;31mDer Kernel konnte nicht gestartet werden. \n",
      "Der Code kann nicht ausgeführt werden, die Sitzung wurde verworfen. \n",
      "Weitere Informationen finden Sie im Jupyter-<a href='command:jupyter.viewOutput'>Protokoll</a>."
     ]
    }
   ],
   "source": [
    "\n",
    "\n",
    "pygame.display.set_caption(\"KiraKiraKasa Animation Simulator\")\n",
    "\n",
    "clock = pygame.time.Clock()\n",
    "#clock.tick(27)\n",
    "\n",
    "leds = [None]*num_of_leds\n",
    "\n",
    "for i in range(num_of_leds):\n",
    "    start_pos = [0, 0]\n",
    "    dxy = [1,2]\n",
    "    leds[i] = LedCreator(start_pos, i, win)\n",
    "\n",
    "\n",
    "#led1 = LedCreator([100, 100], 0, win)\n",
    "\n",
    "leds[0].draw()\n",
    "draw_background()\n",
    "\n",
    "pygame.display.update()\n",
    "\n",
    "\n",
    "is_running = True\n",
    "\n",
    "while is_running:\n",
    "    for event in pygame.event.get():\n",
    "        if event.type == pygame.QUIT:\n",
    "            is_running = False\n",
    "\n",
    "    keys = pygame.key.get_pressed()\n",
    "\n",
    "    if keys[pygame.K_SPACE]:\n",
    "        pass\n",
    "\n",
    "    if keys[pygame.K_LEFT]:\n",
    "        pass\n",
    "\n",
    "\n",
    "pygame.quit()\n",
    "print(\"pygame closed correclty\")\n"
   ]
  }
 ],
 "metadata": {
  "kernelspec": {
   "display_name": "Python 3.7.5 ('Pygametutorial')",
   "language": "python",
   "name": "python3"
  },
  "language_info": {
   "codemirror_mode": {
    "name": "ipython",
    "version": 3
   },
   "file_extension": ".py",
   "mimetype": "text/x-python",
   "name": "python",
   "nbconvert_exporter": "python",
   "pygments_lexer": "ipython3",
   "version": "3.7.5"
  },
  "orig_nbformat": 4,
  "vscode": {
   "interpreter": {
    "hash": "cfc9157a5b8f41fed402fbf6b177a7ab85f2fe0437af513fa79cfc030aaa110c"
   }
  }
 },
 "nbformat": 4,
 "nbformat_minor": 2
}
