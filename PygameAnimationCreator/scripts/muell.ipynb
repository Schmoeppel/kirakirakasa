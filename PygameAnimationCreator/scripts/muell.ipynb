{
 "cells": [
  {
   "cell_type": "code",
   "execution_count": 1,
   "metadata": {},
   "outputs": [],
   "source": [
    "import numpy as np"
   ]
  },
  {
   "cell_type": "code",
   "execution_count": 14,
   "metadata": {},
   "outputs": [
    {
     "name": "stdout",
     "output_type": "stream",
     "text": [
      "[0 0 0 1 1 1]\n"
     ]
    }
   ],
   "source": [
    "a = np.array([[0,0,0]])\n",
    "\n",
    "a = np.append(a, [[1,1,1]])\n",
    "print(a)"
   ]
  },
  {
   "cell_type": "code",
   "execution_count": 29,
   "metadata": {},
   "outputs": [
    {
     "name": "stdout",
     "output_type": "stream",
     "text": [
      "[[[ 0.  1.  2.]\n",
      "  [ 3.  4.  5.]]\n",
      "\n",
      " [[ 6.  7.  8.]\n",
      "  [ 9. 10. 11.]]]\n"
     ]
    }
   ],
   "source": [
    "shape = (1, 2, 3)\n",
    "b = np.ones(shape)\n",
    "empty_line = np.zeros(shape)\n",
    "b = np.vstack((b, empty_line))\n",
    "\n",
    "cnt = 0\n",
    "row_cnt = 0\n",
    "\n",
    "\n",
    "for row in b:\n",
    "    led_cnt = 0\n",
    "    for led in row:\n",
    "        color_cnt = 0\n",
    "        for color in led:\n",
    "            b[row_cnt][led_cnt][color_cnt] = cnt\n",
    "            cnt += 1\n",
    "            color_cnt += 1\n",
    "        led_cnt += 1\n",
    "    row_cnt += 1\n",
    "\n",
    "print(b)"
   ]
  },
  {
   "cell_type": "code",
   "execution_count": 30,
   "metadata": {},
   "outputs": [
    {
     "name": "stdout",
     "output_type": "stream",
     "text": [
      "8.0\n"
     ]
    }
   ],
   "source": [
    "print(b[1][0][2])"
   ]
  },
  {
   "cell_type": "code",
   "execution_count": 16,
   "metadata": {},
   "outputs": [
    {
     "name": "stdout",
     "output_type": "stream",
     "text": [
      "6\n"
     ]
    }
   ],
   "source": [
    "a = np.array([[1,2,3],\n",
    "              [4,5,6]])\n",
    "\n",
    "b = 0\n",
    "for row in a: b += len(row)\n",
    "print(b)"
   ]
  },
  {
   "cell_type": "code",
   "execution_count": 21,
   "metadata": {},
   "outputs": [
    {
     "data": {
      "text/plain": [
       "array([[2, 3],\n",
       "       [5, 6]])"
      ]
     },
     "execution_count": 21,
     "metadata": {},
     "output_type": "execute_result"
    }
   ],
   "source": [
    "a[0:, 1:]"
   ]
  },
  {
   "cell_type": "code",
   "execution_count": 26,
   "metadata": {},
   "outputs": [
    {
     "data": {
      "text/plain": [
       "6"
      ]
     },
     "execution_count": 26,
     "metadata": {},
     "output_type": "execute_result"
    }
   ],
   "source": [
    "a.size"
   ]
  },
  {
   "cell_type": "code",
   "execution_count": 35,
   "metadata": {},
   "outputs": [
    {
     "data": {
      "text/plain": [
       "array([ 2, 17,  1, 18,  0, 19])"
      ]
     },
     "execution_count": 35,
     "metadata": {},
     "output_type": "execute_result"
    }
   ],
   "source": [
    "led_matrix = np.array([[4, 15, 24, 35, 5, 14, 25, 34], \n",
    "                        [3, 16, 23, 36, 6, 13, 26, 33],\n",
    "                        [2, 17, 22, 37, 7, 12, 27, 32],\n",
    "                        [1, 18, 21, 38, 8, 11, 28, 31],\n",
    "                        [0, 19, 20, 39, 9, 10, 29, 30]])\n",
    "\n",
    "a = led_matrix[2:, 0:2]\n",
    "a = a.flatten()\n",
    "\n"
   ]
  },
  {
   "cell_type": "code",
   "execution_count": 15,
   "metadata": {},
   "outputs": [
    {
     "name": "stdout",
     "output_type": "stream",
     "text": [
      "{0: 0, 1: 0, 2: 0, 3: 0, 4: 0, 5: 0, 6: 0, 7: 0, 8: 0, 9: 0, 10: 0, 11: 0, 12: 0, 13: 0, 14: 0, 15: 0, 16: 0, 17: 0, 18: 0, 19: 0}\n",
      "{0: 0, 1: 1, 2: 2, 3: 3, 4: 4, 5: 5, 6: 6, 7: 7, 8: 8, 9: 9, 10: 10, 11: 11, 12: 12, 13: 13, 14: 14, 15: 15, 16: 16, 17: 17, 18: 18, 19: 19}\n",
      "{0: 0, 1: 2, 2: 4, 3: 6, 4: 8, 5: 10, 6: 12, 7: 14, 8: 16, 9: 18, 10: 20, 11: 22, 12: 24, 13: 26, 14: 28, 15: 30, 16: 32, 17: 34, 18: 36, 19: 38}\n",
      "{0: 0, 1: 3, 2: 6, 3: 9, 4: 12, 5: 15, 6: 18, 7: 21, 8: 24, 9: 27, 10: 30, 11: 33, 12: 36, 13: 39, 14: 42, 15: 45, 16: 48, 17: 51, 18: 54, 19: 57}\n",
      "{0: 0, 1: 4, 2: 8, 3: 12, 4: 16, 5: 20, 6: 24, 7: 28, 8: 32, 9: 36, 10: 40, 11: 44, 12: 48, 13: 52, 14: 56, 15: 60, 16: 64, 17: 68, 18: 72, 19: 76}\n",
      "{0: 0, 1: 5, 2: 10, 3: 15, 4: 20, 5: 25, 6: 30, 7: 35, 8: 40, 9: 45, 10: 50, 11: 55, 12: 60, 13: 65, 14: 70, 15: 75, 16: 80, 17: 85, 18: 90, 19: 95}\n",
      "{0: 0, 1: 6, 2: 12, 3: 18, 4: 24, 5: 30, 6: 36, 7: 42, 8: 48, 9: 54, 10: 60, 11: 66, 12: 72, 13: 78, 14: 84, 15: 90, 16: 96, 17: 102, 18: 108, 19: 114}\n",
      "{0: 0, 1: 7, 2: 14, 3: 21, 4: 28, 5: 35, 6: 42, 7: 49, 8: 56, 9: 63, 10: 70, 11: 77, 12: 84, 13: 91, 14: 98, 15: 105, 16: 112, 17: 119, 18: 126, 19: 133}\n",
      "{0: 0, 1: 8, 2: 16, 3: 24, 4: 32, 5: 40, 6: 48, 7: 56, 8: 64, 9: 72, 10: 80, 11: 88, 12: 96, 13: 104, 14: 112, 15: 120, 16: 128, 17: 136, 18: 144, 19: 152}\n",
      "{0: 0, 1: 9, 2: 18, 3: 27, 4: 36, 5: 45, 6: 54, 7: 63, 8: 72, 9: 81, 10: 90, 11: 99, 12: 108, 13: 117, 14: 126, 15: 135, 16: 144, 17: 153, 18: 162, 19: 171}\n"
     ]
    }
   ],
   "source": [
    "# Create an empty dictionary\n",
    "d = {}\n",
    "\n",
    "# Set the number of entries\n",
    "n = 10\n",
    "\n",
    "# Add entries to the dictionary\n",
    "for i in range(n):\n",
    "    d[i] = {}\n",
    "    for j in range(20):\n",
    "        d[i][j] = i * j\n",
    "\n",
    "import json\n",
    "\n",
    "# Open the file in write mode\n",
    "with open(\"dict.txt\", \"w\") as f:\n",
    "    # Write the dictionary to the file\n",
    "    f.write(\"test \\n\")\n",
    "with open(\"dict.txt\", \"a\") as f:\n",
    "    # Write the dictionary to the file\n",
    "    for step in d:\n",
    "        print(d[step])\n",
    "        json.dump(d[step], f)\n",
    "        f.write(\"\\n\")"
   ]
  },
  {
   "cell_type": "code",
   "execution_count": 6,
   "metadata": {},
   "outputs": [
    {
     "data": {
      "text/plain": [
       "3"
      ]
     },
     "execution_count": 6,
     "metadata": {},
     "output_type": "execute_result"
    }
   ],
   "source": [
    "import numpy as np\n",
    "\n",
    "color = np.array([[1, 1, 1]])\n",
    "color2 = np.array([[[1, 1, 1], [2, 2, 2]],\n",
    "                   [[3, 3, 3], [4, 4, 4]]])\n",
    "\n",
    "color2.ndim"
   ]
  },
  {
   "cell_type": "code",
   "execution_count": 20,
   "metadata": {},
   "outputs": [
    {
     "data": {
      "text/plain": [
       "array([1, 1, 1, 2, 2, 2, 3, 3, 3, 4, 4, 4])"
      ]
     },
     "execution_count": 20,
     "metadata": {},
     "output_type": "execute_result"
    }
   ],
   "source": [
    "\n",
    "color2 = color2.reshape(-1, color2.shape[-1])\n",
    "color2.flatten()\n"
   ]
  },
  {
   "cell_type": "code",
   "execution_count": 23,
   "metadata": {},
   "outputs": [
    {
     "name": "stdout",
     "output_type": "stream",
     "text": [
      "0\n",
      "1\n",
      "2\n",
      "3\n",
      "4\n",
      "5\n",
      "6\n"
     ]
    }
   ],
   "source": [
    "a = [0,2,31,1,1,1,1]\n",
    "for i, idx in enumerate(a):\n",
    "    print(i)"
   ]
  },
  {
   "cell_type": "code",
   "execution_count": 22,
   "metadata": {},
   "outputs": [
    {
     "name": "stdout",
     "output_type": "stream",
     "text": [
      "0.7071067811865476\n"
     ]
    }
   ],
   "source": [
    "import math\n",
    "# Calculate the sine of an angle in degrees\n",
    "angle_degrees = 45\n",
    "angle_radians = math.radians(angle_degrees)\n",
    "sine = math.sin(angle_radians)\n",
    "print(sine)  # Output: 0.7071067811865475"
   ]
  }
 ],
 "metadata": {
  "kernelspec": {
   "display_name": "base",
   "language": "python",
   "name": "python3"
  },
  "language_info": {
   "codemirror_mode": {
    "name": "ipython",
    "version": 3
   },
   "file_extension": ".py",
   "mimetype": "text/x-python",
   "name": "python",
   "nbconvert_exporter": "python",
   "pygments_lexer": "ipython3",
   "version": "3.7.13"
  },
  "orig_nbformat": 4,
  "vscode": {
   "interpreter": {
    "hash": "0050d323bf87f1b64174929c19b8344abb6b1f18778ba4ba323f45de57e2a5e9"
   }
  }
 },
 "nbformat": 4,
 "nbformat_minor": 2
}
